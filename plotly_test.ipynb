{
 "cells": [
  {
   "cell_type": "code",
   "execution_count": null,
   "metadata": {},
   "outputs": [],
   "source": [
    "import pandas as pd\n",
    "import geopandas as gpd\n",
    "import plotly.express as px"
   ]
  },
  {
   "cell_type": "code",
   "execution_count": null,
   "id": "40c990d5",
   "metadata": {},
   "outputs": [],
   "source": [
    "display_gdf = gpd.read_file('generated_data/02_preprocessed/preprocessed_data_1.json')"
   ]
  },
  {
   "cell_type": "code",
   "execution_count": null,
   "id": "43b3bcb1",
   "metadata": {},
   "outputs": [],
   "source": [
    "colour_scale = 'Viridis' # Viridis, HSV, mygbm, Edge, Plasma, Rainbow, Jet, Plotly3\n",
    "n_colours = len(list(set(display_gdf['application_category'])))\n",
    "colours = px.colors.sample_colorscale(\n",
    "    colour_scale, [n / (n_colours - 1) for n in range(n_colours)]\n",
    ")"
   ]
  },
  {
   "cell_type": "code",
   "execution_count": null,
   "id": "dc9fd480",
   "metadata": {},
   "outputs": [],
   "source": [
    "from charts.px_scatter_mapbox import px_scatter_mapbox\n",
    "import matplotlib.pyplot as plt"
   ]
  },
  {
   "cell_type": "code",
   "execution_count": null,
   "id": "a5adaacf",
   "metadata": {},
   "outputs": [],
   "source": [
    "display_gdf.head()"
   ]
  },
  {
   "cell_type": "code",
   "execution_count": null,
   "id": "098e30bf",
   "metadata": {},
   "outputs": [],
   "source": [
    "display_gdf.groupby(['application_category']).agg({'fee': 'sum', 'application_type': 'count'}).reset_index().describe()"
   ]
  },
  {
   "cell_type": "code",
   "execution_count": null,
   "id": "a4234e18",
   "metadata": {},
   "outputs": [],
   "source": [
    "area_gdf = gpd.read_file('generated_data/03_area/area_1.json')\n",
    "\n",
    "area_gdf.head()"
   ]
  },
  {
   "cell_type": "code",
   "execution_count": null,
   "id": "3b4ba721",
   "metadata": {},
   "outputs": [],
   "source": [
    "area_gdf.describe()"
   ]
  },
  {
   "cell_type": "code",
   "execution_count": null,
   "id": "14308c45",
   "metadata": {},
   "outputs": [],
   "source": [
    "area_gdf.crs"
   ]
  },
  {
   "cell_type": "code",
   "execution_count": null,
   "id": "4bbfb7cf",
   "metadata": {},
   "outputs": [],
   "source": [
    "bounds_df = area_gdf.bounds\n",
    "min_x = bounds_df['minx'].min()\n",
    "min_y = bounds_df['miny'].min()\n",
    "max_x = bounds_df['maxx'].max()\n",
    "max_y = bounds_df['maxy'].max()\n",
    "\n",
    "print((max_x - min_x)/2 + min_x, '|', (max_y - min_y)/2 + min_y)"
   ]
  },
  {
   "cell_type": "code",
   "execution_count": null,
   "id": "becfe56d",
   "metadata": {},
   "outputs": [],
   "source": [
    "fig_choropleth = px.choropleth_mapbox(\n",
    "    data_frame=area_gdf,\n",
    "    geojson=area_gdf.geometry,\n",
    "    locations=area_gdf.index,\n",
    "    color='total_fee',\n",
    "    color_continuous_scale='Viridis',\n",
    "    mapbox_style='carto-darkmatter',\n",
    "    opacity=0.25,\n",
    "    height=800,\n",
    "    width=800,\n",
    "    center={'lat': 55.36274150310406, 'lon': -3.440547563580056},\n",
    "    zoom=5\n",
    ")\n",
    "\n",
    "fig_choropleth.update_layout(\n",
    "    legend=dict(yanchor=\"bottom\", y=0.01, xanchor=\"left\", x=0.01),\n",
    "    showlegend=True\n",
    ")\n",
    "\n",
    "fig_choropleth.show()"
   ]
  }
 ],
 "metadata": {
  "kernelspec": {
   "display_name": "venv",
   "language": "python",
   "name": "python3"
  },
  "language_info": {
   "codemirror_mode": {
    "name": "ipython",
    "version": 3
   },
   "file_extension": ".py",
   "mimetype": "text/x-python",
   "name": "python",
   "nbconvert_exporter": "python",
   "pygments_lexer": "ipython3",
   "version": "3.12.1"
  }
 },
 "nbformat": 4,
 "nbformat_minor": 5
}
