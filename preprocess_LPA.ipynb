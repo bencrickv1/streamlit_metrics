{
 "cells": [
  {
   "cell_type": "code",
   "execution_count": null,
   "metadata": {},
   "outputs": [],
   "source": [
    "import os\n",
    "import pandas as pd\n",
    "import geopandas as gpd\n",
    "from tqdm import tqdm"
   ]
  },
  {
   "cell_type": "code",
   "execution_count": null,
   "metadata": {},
   "outputs": [],
   "source": [
    "geo_folder = r'C:\\Users\\CrickB\\OneDrive - Version 1\\Documents\\Repositories\\data\\UK_geography'\n",
    "\n",
    "LPA_geojson = os.path.join(geo_folder, r'Local_Planning_Authorities_May_2021_UK_BFE_2022_8497080629868369416.geojson')\n",
    "\n",
    "census_folder = r'C:\\Users\\CrickB\\OneDrive - Version 1\\Documents\\Repositories\\data\\census_2021\\census2021-ts008'\n",
    "\n",
    "area_type = ''\n",
    "# ctry, lsoa, ltla, msoa, oa, rgn, ulta\n",
    "\n",
    "census_geojson = ''"
   ]
  },
  {
   "cell_type": "code",
   "execution_count": null,
   "metadata": {},
   "outputs": [],
   "source": [
    "census_data_csv = os.path.join(census_folder, 'census2021-ts008-msoa.csv')\n",
    "\n",
    "census_df = pd.read_csv(census_data_csv)\n",
    "\n",
    "census_df = census_df.drop(columns=[\n",
    "    'Sex: Female; measures: Value',\n",
    "    'Sex: Male; measures: Value'\n",
    "]).rename(columns={\n",
    "    'Sex: All persons; measures: Value': 'population'\n",
    "})\n",
    "\n",
    "census_df.head()"
   ]
  },
  {
   "cell_type": "code",
   "execution_count": null,
   "metadata": {},
   "outputs": [],
   "source": [
    "oa_geojson = r\"C:\\Users\\CrickB\\OneDrive - Version 1\\Documents\\Repositories\\data\\UK_geography\\MSOA_2021_EW_BFE_V7.geojson\"\n",
    "\n",
    "oa_gdf = gpd.read_file(oa_geojson)\n",
    "\n",
    "oa_gdf.head()"
   ]
  },
  {
   "cell_type": "code",
   "execution_count": null,
   "metadata": {},
   "outputs": [],
   "source": [
    "oa_pop_gdf = gpd.GeoDataFrame(\n",
    "    data=pd.merge(\n",
    "        left=oa_gdf,\n",
    "        right=census_df,\n",
    "        left_on='MSOA21CD',\n",
    "        right_on='geography code',\n",
    "        how='inner'\n",
    "    ),\n",
    "    geometry='geometry',\n",
    "    crs=oa_gdf.crs\n",
    ").drop(columns=['geography', 'geography code'])\n",
    "\n",
    "oa_pop_gdf.head()"
   ]
  },
  {
   "cell_type": "code",
   "execution_count": null,
   "metadata": {},
   "outputs": [],
   "source": [
    "oa_pop_geojson = r\"C:\\Users\\CrickB\\OneDrive - Version 1\\Documents\\Repositories\\data\\census_2021_geography\\MSOA_2021_EW_BFE_V7_population.geojson\"\n",
    "\n",
    "oa_pop_gdf.to_file(oa_pop_geojson)"
   ]
  },
  {
   "cell_type": "code",
   "execution_count": null,
   "metadata": {},
   "outputs": [],
   "source": [
    "LPA_gdf = gpd.read_file(LPA_geojson)\n",
    "\n",
    "LPA_gdf.head()"
   ]
  },
  {
   "cell_type": "code",
   "execution_count": null,
   "metadata": {},
   "outputs": [],
   "source": [
    "LPA_gdf.to_crs('EPSG:4326', inplace=True)\n",
    "oa_pop_gdf.to_crs('EPSG:4326', inplace=True)"
   ]
  },
  {
   "cell_type": "code",
   "execution_count": null,
   "metadata": {},
   "outputs": [],
   "source": [
    "LPA_gdf['LPA_area'] = LPA_gdf.geometry.area"
   ]
  },
  {
   "cell_type": "code",
   "execution_count": null,
   "metadata": {},
   "outputs": [],
   "source": [
    "oa_pop_gdf['MSOA_area'] = oa_pop_gdf.geometry.area"
   ]
  },
  {
   "cell_type": "code",
   "execution_count": null,
   "metadata": {},
   "outputs": [],
   "source": [
    "intersection_gdf = gpd.overlay(\n",
    "    df1=LPA_gdf,\n",
    "    df2=oa_pop_gdf,\n",
    "    how='intersection'\n",
    ")"
   ]
  },
  {
   "cell_type": "code",
   "execution_count": null,
   "metadata": {},
   "outputs": [],
   "source": [
    "intersection_gdf['intersection_area'] = intersection_gdf.geometry.area"
   ]
  },
  {
   "cell_type": "code",
   "execution_count": null,
   "metadata": {},
   "outputs": [],
   "source": [
    "intersection_gdf.head()"
   ]
  },
  {
   "cell_type": "code",
   "execution_count": null,
   "metadata": {},
   "outputs": [],
   "source": [
    "LPA_gdf['LPA_population'] = 0"
   ]
  },
  {
   "cell_type": "code",
   "execution_count": null,
   "metadata": {},
   "outputs": [],
   "source": [
    "for LPA_row in tqdm(LPA_gdf.itertuples(), total=len(LPA_gdf)):\n",
    "\n",
    "    LPA_intersection_gdf = intersection_gdf.loc[intersection_gdf['LPA21NM']==LPA_row.LPA21NM]\n",
    "\n",
    "    LPA_intersection_gdf['LPA_population'] = LPA_intersection_gdf['intersection_area'] / LPA_intersection_gdf['MSOA_area'] * LPA_intersection_gdf['population']\n",
    "\n",
    "    LPA_population = LPA_intersection_gdf['LPA_population'].sum()\n",
    "\n",
    "    LPA_gdf.at[LPA_row.Index, 'LPA_population'] = LPA_population"
   ]
  },
  {
   "cell_type": "code",
   "execution_count": null,
   "metadata": {},
   "outputs": [],
   "source": [
    "LPA_gdf.head()"
   ]
  },
  {
   "cell_type": "code",
   "execution_count": null,
   "metadata": {},
   "outputs": [],
   "source": [
    "print(f'LPA total population: {LPA_gdf[\"LPA_population\"].sum()}')\n",
    "print(f'MSOA total population: {oa_pop_gdf[\"population\"].sum()}')"
   ]
  },
  {
   "cell_type": "code",
   "execution_count": null,
   "metadata": {},
   "outputs": [],
   "source": [
    "LPA_population_geojson = r'C:\\Users\\CrickB\\OneDrive - Version 1\\Documents\\Repositories\\data\\census_2021_geography\\LPA_census_2021_population.geojson'\n",
    "\n",
    "LPA_gdf.to_file(LPA_population_geojson)"
   ]
  },
  {
   "cell_type": "code",
   "execution_count": null,
   "metadata": {},
   "outputs": [],
   "source": [
    "LPA_gdf_27700 = LPA_gdf.to_crs('EPSG:27700')\n",
    "\n",
    "LPA_gdf_27700.crs"
   ]
  },
  {
   "cell_type": "code",
   "execution_count": null,
   "metadata": {},
   "outputs": [],
   "source": [
    "LPA_gdf_27700['LPA_area'] = LPA_gdf_27700.geometry.area / 1000000\n",
    "\n",
    "LPA_gdf_27700.rename(columns={'LPA_area': 'LPA_area_km2'}, inplace=True)\n",
    "\n",
    "LPA_gdf_27700.head()"
   ]
  },
  {
   "cell_type": "code",
   "execution_count": null,
   "metadata": {},
   "outputs": [],
   "source": [
    "LPA_gdf = LPA_gdf_27700.to_crs('EPSG:4326')\n",
    "\n",
    "LPA_gdf.head()"
   ]
  },
  {
   "cell_type": "code",
   "execution_count": null,
   "metadata": {},
   "outputs": [],
   "source": [
    "LPA_gdf.to_file(LPA_population_geojson)"
   ]
  }
 ],
 "metadata": {
  "kernelspec": {
   "display_name": "venv",
   "language": "python",
   "name": "python3"
  },
  "language_info": {
   "codemirror_mode": {
    "name": "ipython",
    "version": 3
   },
   "file_extension": ".py",
   "mimetype": "text/x-python",
   "name": "python",
   "nbconvert_exporter": "python",
   "pygments_lexer": "ipython3",
   "version": "3.12.1"
  }
 },
 "nbformat": 4,
 "nbformat_minor": 2
}
