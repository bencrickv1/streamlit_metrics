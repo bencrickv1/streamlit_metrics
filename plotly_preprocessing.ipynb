{
 "cells": [
  {
   "cell_type": "code",
   "execution_count": 12,
   "metadata": {},
   "outputs": [],
   "source": [
    "import pandas as pd\n",
    "import geopandas as gpd\n",
    "import plotly.express as px\n",
    "import json\n",
    "from charts.px_choropleth_mapbox import px_choropleth_mapbox"
   ]
  },
  {
   "cell_type": "code",
   "execution_count": 7,
   "id": "a4234e18",
   "metadata": {},
   "outputs": [],
   "source": [
    "LPA_geojson_file = 'generated_data/03_area/area_1.json'\n",
    "LPA_gdf = gpd.read_file(LPA_geojson_file)"
   ]
  },
  {
   "cell_type": "code",
   "execution_count": 8,
   "id": "8eadd590",
   "metadata": {},
   "outputs": [],
   "source": [
    "# Set up colours\n",
    "colour_scale = 'Viridis' # Viridis, HSV, mygbm, Edge, Plasma, Rainbow, Jet, Plotly3"
   ]
  },
  {
   "cell_type": "code",
   "execution_count": null,
   "id": "bee0788a",
   "metadata": {},
   "outputs": [],
   "source": []
  },
  {
   "cell_type": "code",
   "execution_count": 9,
   "id": "91ba90ac",
   "metadata": {},
   "outputs": [],
   "source": [
    "metric_area_fields = {\n",
    "    'Number of Planning Applications': {\n",
    "        'Number': {\n",
    "            'field': 'number_of_applications',\n",
    "            'display_name': 'Number of Planning Applications'\n",
    "        },\n",
    "        'Per capita': {\n",
    "            'field': 'applications_per_capita',\n",
    "            'display_name': 'Number of Planning Applications per Capita'\n",
    "        },\n",
    "        'Per square kilometre': {\n",
    "            'field': 'applications_per_km2',\n",
    "            'display_name': 'Number of Planning Applications per Square Kilometre'\n",
    "        }\n",
    "    },\n",
    "    'Total Fee': {\n",
    "        'Number': {\n",
    "            'field': 'total_fee',\n",
    "            'display_name': 'Total Fee'\n",
    "        },\n",
    "        'Per capita': {\n",
    "            'field': 'total_fee_per_capita',\n",
    "            'display_name': 'Total Fee per Capita'\n",
    "        },\n",
    "        'Per square kilometre': {\n",
    "            'field': 'total_fee_per_km2',\n",
    "            'display_name': 'Total Fee per Square Kilometre'\n",
    "        }\n",
    "    }\n",
    "}"
   ]
  },
  {
   "cell_type": "code",
   "execution_count": 16,
   "id": "becfe56d",
   "metadata": {},
   "outputs": [],
   "source": [
    "for metric_variable in metric_area_fields:\n",
    "\n",
    "    for metric_unit in metric_area_fields[metric_variable]:\n",
    "\n",
    "        metric_area_field = metric_area_fields[metric_variable][metric_unit]['field']\n",
    "        metric_area_display_name = metric_area_fields[metric_variable][metric_unit]['display_name']\n",
    "\n",
    "        fig_choropleth = px_choropleth_mapbox(\n",
    "            area_gdf=LPA_gdf,\n",
    "            colour_field=metric_area_field,\n",
    "            colour_scale=colour_scale,\n",
    "            title=f'{metric_area_display_name} by Local Planning authority',\n",
    "            showlegend=True,\n",
    "            legend_title=metric_area_display_name\n",
    "        )\n",
    "        \n",
    "        output_html = f'generated_data/04_plotly/{metric_variable}_{metric_unit}_choropleth.html'\n",
    "        output_json = f'generated_data/04_plotly/{metric_variable}_{metric_unit}_choropleth.json'\n",
    "\n",
    "        # fig_choropleth.write_html(output_html)\n",
    "        with open(output_json, 'w') as fo:\n",
    "            json.dump(fig_choropleth.to_json(), fo)"
   ]
  }
 ],
 "metadata": {
  "kernelspec": {
   "display_name": "venv",
   "language": "python",
   "name": "python3"
  },
  "language_info": {
   "codemirror_mode": {
    "name": "ipython",
    "version": 3
   },
   "file_extension": ".py",
   "mimetype": "text/x-python",
   "name": "python",
   "nbconvert_exporter": "python",
   "pygments_lexer": "ipython3",
   "version": "3.12.1"
  }
 },
 "nbformat": 4,
 "nbformat_minor": 5
}
